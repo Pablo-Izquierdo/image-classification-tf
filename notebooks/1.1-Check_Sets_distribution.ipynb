{
 "cells": [
  {
   "cell_type": "markdown",
   "metadata": {},
   "source": [
    "# Check Sets Train, Val, Test distribution\n",
    "\n",
    "Select the file *.txt* that contains all the images and its size. Now we want to check the distribution "
   ]
  },
  {
   "cell_type": "code",
   "execution_count": 20,
   "metadata": {},
   "outputs": [
    {
     "name": "stdout",
     "output_type": "stream",
     "text": [
      "                                                   file    size\n",
      "0     /srv/nextcloud/MANZANA/Golden/139.04/Rio_M_Gol...  139.04\n",
      "1     /srv/nextcloud/MANZANA/Fuji/201.03/Rio_M_Fuji_...  201.03\n",
      "2     /srv/nextcloud/MANZANA/Fuji/265.43/Rio_M_Fuji_...  265.43\n",
      "3     /srv/nextcloud/MANZANA/Golden/177.87/Rio_M_Gol...  177.87\n",
      "4     /srv/nextcloud/MANZANA/Golden/207,98/Rio_M_Gol...  207.98\n",
      "...                                                 ...     ...\n",
      "7140  /srv/nextcloud/MANZANA/Fuji/196.38/Rio_M_Fuji_...  196.38\n",
      "7141  /srv/nextcloud/MANZANA/Golden/177.90/Rio_M_Gol...   177.9\n",
      "7142  /srv/nextcloud/MANZANA/Fuji/320.09/Rio_M_Fuji_...  320.09\n",
      "7143  /srv/nextcloud/MANZANA/Golden/177.90/Rio_M_Gol...   177.9\n",
      "7144  /srv/nextcloud/MANZANA/Fuji/199.97/Rio_M_Fuji_...  199.97\n",
      "\n",
      "[7145 rows x 2 columns]\n",
      "                                                   file    size\n",
      "0     /srv/nextcloud/MANZANA/Granny Smith/209,01/Mad...  209.01\n",
      "1     /srv/nextcloud/MANZANA/Fuji/280.70/Rio_M_Fuji_...  280.70\n",
      "2     /srv/nextcloud/MANZANA/Fuji/141.14/Rio_M_Fuji_...  141.14\n",
      "3     /srv/nextcloud/MANZANA/Fuji/285.75/Rio_M_Fuji_...  285.75\n",
      "4     /srv/nextcloud/MANZANA/Golden/138.45/Rio_M_Gol...  138.45\n",
      "...                                                 ...     ...\n",
      "2037  /srv/nextcloud/MANZANA/Golden/186.40/Rio_M_Gol...   186.4\n",
      "2038  /srv/nextcloud/MANZANA/Granny Smith/240,23/Mad...  240.23\n",
      "2039  /srv/nextcloud/MANZANA/Golden/251.28/Rio_M_Gol...  251.28\n",
      "2040  /srv/nextcloud/MANZANA/Golden/243.25/Rio_M_Gol...  243.25\n",
      "2041  /srv/nextcloud/MANZANA/Golden/186.88/Rio_M_Gol...  186.88\n",
      "\n",
      "[2042 rows x 2 columns]\n",
      "                                                   file    size\n",
      "0     /srv/nextcloud/MANZANA/Golden/212,54/Rio_M_Gol...  212.54\n",
      "1     /srv/nextcloud/MANZANA/Golden/258.65/Rio_M_Gol...  258.65\n",
      "2     /srv/nextcloud/MANZANA/Fuji/211.04/Rio_M_Fuji_...  211.04\n",
      "3     /srv/nextcloud/MANZANA/Fuji/215.90/Rio_M_Fuji_...  215.90\n",
      "4     /srv/nextcloud/MANZANA/Granny Smith/183,96/Mad...  183.96\n",
      "...                                                 ...     ...\n",
      "1016  /srv/nextcloud/MANZANA/Golden/196,68/Rio_M_Gol...  196.68\n",
      "1017  /srv/nextcloud/MANZANA/Golden/172.20/Rio_M_Gol...   172.2\n",
      "1018  /srv/nextcloud/MANZANA/Fuji/144.23/Rio_M_Fuji_...  144.23\n",
      "1019  /srv/nextcloud/MANZANA/Granny Smith/178,97/Mad...  178.97\n",
      "1020  /srv/nextcloud/MANZANA/Golden/204,04/Rio_M_Gol...  204.04\n",
      "\n",
      "[1021 rows x 2 columns]\n"
     ]
    }
   ],
   "source": [
    "import os\n",
    "\n",
    "import matplotlib.pylab as plt\n",
    "import numpy as np\n",
    "import pandas as pd\n",
    "from tqdm import tqdm\n",
    "\n",
    "import imgclas\n",
    "from imgclas import paths, config\n",
    "\n",
    "from sklearn.model_selection import train_test_split\n",
    "\n",
    "df_train = pd.DataFrame(columns=['file', 'size'])\n",
    "f = open(\"../data/dataset_files/train.txt\", \"r\")\n",
    "    \n",
    "#Create pandas dataset\n",
    "for file in f.readlines():\n",
    "    splited = file[0:-1].split('*')\n",
    "\n",
    "    df_train = df_train.append(pd.DataFrame([splited], columns=['file', 'size']), ignore_index=True)\n",
    "    \n",
    "print(df_train)\n",
    "\n",
    "df_test = pd.DataFrame(columns=['file', 'size'])\n",
    "f = open(\"../data/dataset_files/test.txt\", \"r\")\n",
    "    \n",
    "#Create pandas dataset\n",
    "for file in f.readlines():\n",
    "    splited = file[0:-1].split('*')\n",
    "\n",
    "    df_test = df_test.append(pd.DataFrame([splited], columns=['file', 'size']), ignore_index=True)\n",
    "    \n",
    "print(df_test)\n",
    "\n",
    "\n",
    "df_val = pd.DataFrame(columns=['file', 'size'])\n",
    "f = open(\"../data/dataset_files/val.txt\", \"r\")\n",
    "    \n",
    "#Create pandas dataset\n",
    "for file in f.readlines():\n",
    "    splited = file[0:-1].split('*')\n",
    "\n",
    "    df_val = df_val.append(pd.DataFrame([splited], columns=['file', 'size']), ignore_index=True)\n",
    "    \n",
    "print(df_val)"
   ]
  },
  {
   "cell_type": "code",
   "execution_count": 22,
   "metadata": {},
   "outputs": [
    {
     "data": {
      "text/plain": [
       "<AxesSubplot:ylabel='Frequency'>"
      ]
     },
     "execution_count": 22,
     "metadata": {},
     "output_type": "execute_result"
    },
    {
     "data": {
      "image/png": "[encoded data removed]",
      "text/plain": [
       "<Figure size 432x288 with 1 Axes>"
      ]
     },
     "metadata": {
      "needs_background": "light"
     },
     "output_type": "display_data"
    }
   ],
   "source": [
    "pd.to_numeric(df_train[\"size\"]).plot.hist() #train blue\n",
    "pd.to_numeric(df_test[\"size\"]).plot.hist() #test orange\n",
    "pd.to_numeric(df_val[\"size\"]).plot.hist() #val green"
   ]
  }
 ],
 "metadata": {
  "kernelspec": {
   "display_name": "Python 3",
   "language": "python",
   "name": "python3"
  },
  "language_info": {
   "codemirror_mode": {
    "name": "ipython",
    "version": 3
   },
   "file_extension": ".py",
   "mimetype": "text/x-python",
   "name": "python",
   "nbconvert_exporter": "python",
   "pygments_lexer": "ipython3",
   "version": "3.6.8"
  }
 },
 "nbformat": 4,
 "nbformat_minor": 4
}
