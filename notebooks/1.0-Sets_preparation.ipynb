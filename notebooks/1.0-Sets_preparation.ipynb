{
 "cells": [
  {
   "cell_type": "markdown",
   "metadata": {},
   "source": [
    "# Divide your data into train, val and test sets\n",
    "\n",
    "Select the file *.txt* that contains all the images and its corresponding classes. Now we want to split our images into training, validation and testing files, so that the different volume classes are well distributed (e.g. if the dataset is highly imbalanced the images are not randomly separated)."
   ]
  },
  {
   "cell_type": "code",
   "execution_count": 1,
   "metadata": {},
   "outputs": [],
   "source": [
    "import sqlite3\n",
    "from enum import Enum\n",
    "from datetime import datetime\n",
    "import os\n",
    "import hashlib\n",
    "import multiprocessing\n",
    "from multiprocessing import Pool\n",
    "import pandas as pd\n",
    "from fast_ml.model_development import train_valid_test_split\n",
    "from sklearn.model_selection import train_test_split\n",
    "from skimage import io\n",
    "\n",
    "from collections import Counter\n",
    "import random as r"
   ]
  },
  {
   "cell_type": "code",
   "execution_count": 2,
   "metadata": {},
   "outputs": [],
   "source": [
    "#Funcion para separar en bins\n",
    "def get_bin(true_values):\n",
    "    \n",
    "    grams = [100, 125, 150, 175, 200, 225, 250, 275, 300, 325, 350, 375]\n",
    "    bins = [87.5, 112.5, 137.5, 162.5, 187.5, 212.5, 237.5, 262.5, 287.5, 312.5, 337.5, 362.5, 387.5]\n",
    "    \n",
    "    \n",
    "    if type(true_values) == list:\n",
    "        result = list()\n",
    "        for e in true_values:\n",
    "            l = len(bins)\n",
    "            index = 0\n",
    "            for i in range(l):\n",
    "                try:\n",
    "                    if bins[i] < float(e) and bins[i+1] > float(e):\n",
    "                        index = i\n",
    "                        result.append(grams[index])\n",
    "                        break\n",
    "                except:\n",
    "                    print(\"Error:\", e)\n",
    "    else:\n",
    "        l = len(bins)\n",
    "        index = 0\n",
    "        for i in range(l):\n",
    "            try:\n",
    "                if bins[i] < float(true_values) and bins[i+1] > float(true_values):\n",
    "                    index = i\n",
    "                    result = grams[index]\n",
    "                    break\n",
    "            except:\n",
    "                print(\"Error:\", true_values)\n",
    "        \n",
    "    \n",
    "    return result"
   ]
  },
  {
   "cell_type": "code",
   "execution_count": 3,
   "metadata": {
    "tags": []
   },
   "outputs": [],
   "source": [
    "# funcion que genera el chisero dataset.txt con las carpetas de imagenes y un dataframe con path y bin_size\n",
    "def generate_dataset_file(fruitDirectory):\n",
    "\n",
    "    # VALUES(date, user, picture, hash, location, idfruta, idvariedad, tamaño, luz, plano, angulo, plato, superficie);\n",
    "    with open('../data/dataset_files/dataset.txt', 'w') as fw: #Escribo en fichero dataset\n",
    "        df = pd.DataFrame(columns=['path', 'clase'])\n",
    "        for variety in os.listdir(fruitDirectory): # Para cada variedad\n",
    "            varietyDirectory = fruitDirectory + variety + \"/\"\n",
    "            print(varietyDirectory)\n",
    "            for sizeDirectory in os.listdir(varietyDirectory): # Para cada peso\n",
    "                tamaño=sizeDirectory\n",
    "                sizeDirectory = varietyDirectory + sizeDirectory + \"/\"\n",
    "\n",
    "                df = df.append(pd.DataFrame([[sizeDirectory,float(get_bin(tamaño.replace(\",\",\".\")))]], columns=['path', 'clase']), ignore_index=True)\n",
    "        \n",
    "                string = str(sizeDirectory) + '*' + str(tamaño.replace(\",\",\".\"))+'\\n'\n",
    "                fw.write(string)\n",
    "                \n",
    "    fw.close()\n",
    "\n",
    "    return df"
   ]
  },
  {
   "cell_type": "code",
   "execution_count": 4,
   "metadata": {},
   "outputs": [],
   "source": [
    "#Escribo en el fichero el path y tamaño extraido del path\n",
    "def write_file(writefile, X):\n",
    "    \n",
    "    print(\"Writing \"+ writefile)\n",
    "    with open('../data/dataset_files/'+writefile, 'w') as fw: #Escribo en fichero Train\n",
    "        for i in range(len(X)):\n",
    "            directory= X.iloc[i]\n",
    "            tamaño = directory.split('/')[-2].replace(',','.')\n",
    "            #print(directory, tamaño)\n",
    "            for filename in os.listdir(directory+\"/\"): \n",
    "                #print(filename)\n",
    "                f = os.path.join(directory, filename)\n",
    "                #checking if it is a file\n",
    "                if not os.path.isfile(f):\n",
    "                    raise Exception(\"File Not found: \" + str(f))\n",
    "\n",
    "                try:\n",
    "                    _ = io.imread(f)\n",
    "                    string = str(f) + '*' + str(tamaño)+'\\n'\n",
    "                    fw.write(string)\n",
    "                except Exception as e:\n",
    "                    print(f)\n",
    "        fw.close()"
   ]
  },
  {
   "cell_type": "code",
   "execution_count": null,
   "metadata": {},
   "outputs": [
    {
     "name": "stdout",
     "output_type": "stream",
     "text": [
      "/srv/nextcloud/MANZANA/Fuji/\n",
      "/srv/nextcloud/MANZANA/Golden/\n",
      "/srv/nextcloud/MANZANA/Granny Smith/\n",
      "Train: Counter({200.0: 22, 250.0: 17, 150.0: 17, 175.0: 13, 125.0: 12, 275.0: 8, 225.0: 7, 300.0: 4})\n",
      "Test: Counter({200.0: 6, 250.0: 5, 150.0: 5, 125.0: 3, 275.0: 3, 175.0: 3, 225.0: 2, 300.0: 1})\n",
      "Val: Counter({200.0: 3, 150.0: 3, 250.0: 2, 175.0: 2, 125.0: 2, 225.0: 1, 300.0: 1, 275.0: 1})\n",
      "Writing train.txt\n"
     ]
    }
   ],
   "source": [
    "# Estratificamos datos y escribimos en fichero\n",
    "def gen_data(dataset_dir):\n",
    "\n",
    "    #Genero dataset.txt y obtengo df [path, size]\n",
    "    df = generate_dataset_file(dataset_dir)\n",
    "    #df = df.sort_values(by=['clase'])\n",
    "    for i in range(len(df.clase)): #Hay pocas manzanas superiores a 300g por lo que se combinan dentro del bin 300g\n",
    "        if df.clase[i] > 300:\n",
    "            df.clase[i] = 300\n",
    "        elif df.clase[i] < 125:\n",
    "            df.clase[i] = 125\n",
    "    #Dristribuir en train, test, val\n",
    "    #print(Counter(df.clase))\n",
    "    X_train, X_2, y_train, y_2 = train_test_split(df.path, df.clase, test_size=0.30, random_state=1, stratify=df.clase)\n",
    "    print(\"Train:\", Counter(y_train))\n",
    "    #print(Counter(y_2))\n",
    "    X_test, X_val, y_test, y_val = train_test_split(X_2, y_2, test_size=0.33, random_state=1, stratify=y_2)\n",
    "    print(\"Test:\",Counter(y_test))\n",
    "    print(\"Val:\",Counter(y_val))\n",
    "    #Train\n",
    "    write_file('train.txt', X_train)\n",
    "    #val\n",
    "    write_file('val.txt', X_val)\n",
    "    #Test\n",
    "    write_file('test.txt', X_test)\n",
    "    \n",
    "gen_data('/srv/nextcloud/MANZANA/')"
   ]
  },
  {
   "cell_type": "markdown",
   "metadata": {},
   "source": [
    "from collections import Counter\n",
    "print(Counter(data.clase))"
   ]
  },
  {
   "cell_type": "markdown",
   "metadata": {},
   "source": [
    "# split into train test sets\n",
    "X_train, X_2, y_train, y_2 = train_test_split(data.image, data.clase, test_size=0.215, random_state=1, stratify=data.clase)\n",
    "print(Counter(y_train))\n",
    "print(Counter(y_2))"
   ]
  },
  {
   "cell_type": "markdown",
   "metadata": {},
   "source": [
    "X_test, X_val, y_test, y_val = train_test_split(X_2, y_2, test_size=0.5, random_state=1, stratify=y_2)\n",
    "print(Counter(y_test))\n",
    "print(Counter(y_val))"
   ]
  },
  {
   "cell_type": "markdown",
   "metadata": {},
   "source": [
    "train=pd.DataFrame(data={'image': X_train, 'clase': y_train})\n",
    "train.to_csv(r'/srv/images_classes/Regression/copasVasos_Madrid_LaRioja/train.txt', sep='*', index=None, header=None, mode='a')"
   ]
  },
  {
   "cell_type": "markdown",
   "metadata": {},
   "source": [
    "val=pd.DataFrame(data={'image': X_val, 'clase': y_val})\n",
    "val.to_csv(r'/srv/images_classes/Regression/copasVasos_Madrid_LaRioja/val.txt', sep='*', index=None, header=None, mode='a')"
   ]
  },
  {
   "cell_type": "markdown",
   "metadata": {},
   "source": [
    "test=pd.DataFrame(data={'image': X_test, 'clase': y_test})\n",
    "test.to_csv(r'/srv/images_classes/Regression/copasVasos_Madrid_LaRioja/test.txt', sep='*', index=None, header=None, mode='a')"
   ]
  },
  {
   "cell_type": "markdown",
   "metadata": {
    "tags": []
   },
   "source": [
    "len(train)"
   ]
  },
  {
   "cell_type": "markdown",
   "metadata": {},
   "source": [
    "len(val)"
   ]
  },
  {
   "cell_type": "markdown",
   "metadata": {},
   "source": [
    "len(test)"
   ]
  }
 ],
 "metadata": {
  "kernelspec": {
   "display_name": "Python 3",
   "language": "python",
   "name": "python3"
  },
  "language_info": {
   "codemirror_mode": {
    "name": "ipython",
    "version": 3
   },
   "file_extension": ".py",
   "mimetype": "text/x-python",
   "name": "python",
   "nbconvert_exporter": "python",
   "pygments_lexer": "ipython3",
   "version": "3.6.8"
  }
 },
 "nbformat": 4,
 "nbformat_minor": 4
}
