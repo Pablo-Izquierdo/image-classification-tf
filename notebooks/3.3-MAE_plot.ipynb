{
 "cells": [
  {
   "cell_type": "markdown",
   "metadata": {},
   "source": [
    "# Statistics for wine volume regression model\n",
    "\n",
    "Mean absolute error (MAE) for laboratory images of glasses and cups model."
   ]
  },
  {
   "cell_type": "code",
   "execution_count": 1,
   "metadata": {
    "tags": []
   },
   "outputs": [],
   "source": [
    "import os\n",
    "import json\n",
    "\n",
    "import numpy as np\n",
    "import matplotlib.pylab as plt\n",
    "from tensorflow.keras.models import load_model\n",
    "\n",
    "from imgclas import paths, utils, data_utils\n",
    "from imgclas.data_utils import load_data_splits, k_crop_data_sequence\n",
    "from imgclas.test_utils import predict\n",
    "from imgclas.visualization.saliency import GradientSaliency\n",
    "from imgclas.visualization.guided_backprop import GuidedBackprop\n",
    "from imgclas.visualization.integrated_gradients import IntegratedGradients\n",
    "from imgclas.visualization.visual_backprop import VisualBackprop\n",
    "# User parameters to set\n",
    "TIMESTAMP = '2023-09-14_105236'                       # timestamp of the model\n",
    "MODEL_NAME = 'epoch-16.hdf5'\n",
    "#MODEL_NAME = 'final_model.h5'                           # model to use to make the prediction\n",
    "TOP_K = 2                                               # number of top classes predictions to save\n",
    "\n",
    "# Set the timestamp\n",
    "paths.timestamp = TIMESTAMP\n"
   ]
  },
  {
   "cell_type": "markdown",
   "metadata": {},
   "source": [
    "### Load the prediction data"
   ]
  },
  {
   "cell_type": "code",
   "execution_count": 2,
   "metadata": {},
   "outputs": [],
   "source": [
    "import pandas as pd\n",
    "# Load back the predictions\n",
    "SPLIT_NAME='test'\n",
    "pred_path = os.path.join(paths.get_predictions_dir(), '{}+{}.json'.format(MODEL_NAME, SPLIT_NAME, TOP_K))\n",
    "with open(pred_path) as f:\n",
    "    pred_dict = json.load(f)\n",
    "\n",
    "df_pred=pd.DataFrame(pred_dict)\n",
    "df_pred['abs_error']=abs(df_pred.pred_value-df_pred.true_value)"
   ]
  },
  {
   "cell_type": "markdown",
   "metadata": {},
   "source": [
    "### Prepare dataframes\n",
    "\n",
    "I had implement a function that get the true_weights of the images and return the bin at which it belong"
   ]
  },
  {
   "cell_type": "code",
   "execution_count": 3,
   "metadata": {},
   "outputs": [],
   "source": [
    "def get_bin(true_values):\n",
    "    \n",
    "    grams = [100, 125, 150, 175, 200, 225, 250, 275, 300, 325, 350, 375]\n",
    "    bins = [87.5, 112.5, 137.5, 162.5, 187.5, 212.5, 237.5, 262.5, 287.5, 312.5, 337.5, 362.5, 387.5]\n",
    "    \n",
    "    result = list()\n",
    "    for e in true_values:\n",
    "        l = len(bins)\n",
    "        index = 0\n",
    "        for i in range(l):\n",
    "            try:\n",
    "                if bins[i] < float(e) and bins[i+1] > float(e):\n",
    "                    index = i\n",
    "                    result.append(grams[index])\n",
    "                    break\n",
    "            except:\n",
    "                print(e)\n",
    "    \n",
    "    return result"
   ]
  },
  {
   "cell_type": "markdown",
   "metadata": {},
   "source": [
    "Extract all the data from images to dataframe"
   ]
  },
  {
   "cell_type": "code",
   "execution_count": 4,
   "metadata": {},
   "outputs": [
    {
     "data": {
      "text/html": [
       "<div>\n",
       "<style scoped>\n",
       "    .dataframe tbody tr th:only-of-type {\n",
       "        vertical-align: middle;\n",
       "    }\n",
       "\n",
       "    .dataframe tbody tr th {\n",
       "        vertical-align: top;\n",
       "    }\n",
       "\n",
       "    .dataframe thead th {\n",
       "        text-align: right;\n",
       "    }\n",
       "</style>\n",
       "<table border=\"1\" class=\"dataframe\">\n",
       "  <thead>\n",
       "    <tr style=\"text-align: right;\">\n",
       "      <th></th>\n",
       "      <th>filenames</th>\n",
       "      <th>pred_value</th>\n",
       "      <th>true_value</th>\n",
       "      <th>abs_error</th>\n",
       "      <th>location</th>\n",
       "      <th>variety</th>\n",
       "      <th>size</th>\n",
       "      <th>plate</th>\n",
       "      <th>light</th>\n",
       "      <th>shot</th>\n",
       "      <th>angle</th>\n",
       "    </tr>\n",
       "  </thead>\n",
       "  <tbody>\n",
       "    <tr>\n",
       "      <th>0</th>\n",
       "      <td>/storage/MANZANA/Fuji/211.04/Rio_M_Fuji_211,04...</td>\n",
       "      <td>173.189865</td>\n",
       "      <td>211.039993</td>\n",
       "      <td>37.850128</td>\n",
       "      <td>Rio</td>\n",
       "      <td>Fuji</td>\n",
       "      <td>211.04</td>\n",
       "      <td>Pgb</td>\n",
       "      <td>ext</td>\n",
       "      <td>al</td>\n",
       "      <td>cen</td>\n",
       "    </tr>\n",
       "    <tr>\n",
       "      <th>1</th>\n",
       "      <td>/storage/MANZANA/Fuji/211.04/Rio_M_Fuji_211,04...</td>\n",
       "      <td>170.292374</td>\n",
       "      <td>211.039993</td>\n",
       "      <td>40.747620</td>\n",
       "      <td>Rio</td>\n",
       "      <td>Fuji</td>\n",
       "      <td>211.04</td>\n",
       "      <td>Pgb</td>\n",
       "      <td>ext</td>\n",
       "      <td>al</td>\n",
       "      <td>sup</td>\n",
       "    </tr>\n",
       "    <tr>\n",
       "      <th>2</th>\n",
       "      <td>/storage/MANZANA/Fuji/211.04/Rio_M_Fuji_211,04...</td>\n",
       "      <td>191.861282</td>\n",
       "      <td>211.039993</td>\n",
       "      <td>19.178711</td>\n",
       "      <td>Rio</td>\n",
       "      <td>Fuji</td>\n",
       "      <td>211.04</td>\n",
       "      <td>Pgb</td>\n",
       "      <td>ext</td>\n",
       "      <td>al</td>\n",
       "      <td>ver</td>\n",
       "    </tr>\n",
       "    <tr>\n",
       "      <th>3</th>\n",
       "      <td>/storage/MANZANA/Fuji/211.04/Rio_M_Fuji_211,04...</td>\n",
       "      <td>217.750107</td>\n",
       "      <td>211.039993</td>\n",
       "      <td>6.710114</td>\n",
       "      <td>Rio</td>\n",
       "      <td>Fuji</td>\n",
       "      <td>211.04</td>\n",
       "      <td>Pgb</td>\n",
       "      <td>ext</td>\n",
       "      <td>ce</td>\n",
       "      <td>cen</td>\n",
       "    </tr>\n",
       "    <tr>\n",
       "      <th>4</th>\n",
       "      <td>/storage/MANZANA/Fuji/211.04/Rio_M_Fuji_211,04...</td>\n",
       "      <td>187.372406</td>\n",
       "      <td>211.039993</td>\n",
       "      <td>23.667587</td>\n",
       "      <td>Rio</td>\n",
       "      <td>Fuji</td>\n",
       "      <td>211.04</td>\n",
       "      <td>Pgb</td>\n",
       "      <td>ext</td>\n",
       "      <td>ce</td>\n",
       "      <td>sup</td>\n",
       "    </tr>\n",
       "  </tbody>\n",
       "</table>\n",
       "</div>"
      ],
      "text/plain": [
       "                                           filenames  pred_value  true_value  \\\n",
       "0  /storage/MANZANA/Fuji/211.04/Rio_M_Fuji_211,04...  173.189865  211.039993   \n",
       "1  /storage/MANZANA/Fuji/211.04/Rio_M_Fuji_211,04...  170.292374  211.039993   \n",
       "2  /storage/MANZANA/Fuji/211.04/Rio_M_Fuji_211,04...  191.861282  211.039993   \n",
       "3  /storage/MANZANA/Fuji/211.04/Rio_M_Fuji_211,04...  217.750107  211.039993   \n",
       "4  /storage/MANZANA/Fuji/211.04/Rio_M_Fuji_211,04...  187.372406  211.039993   \n",
       "\n",
       "   abs_error location variety    size plate light shot angle  \n",
       "0  37.850128      Rio    Fuji  211.04   Pgb   ext   al   cen  \n",
       "1  40.747620      Rio    Fuji  211.04   Pgb   ext   al   sup  \n",
       "2  19.178711      Rio    Fuji  211.04   Pgb   ext   al   ver  \n",
       "3   6.710114      Rio    Fuji  211.04   Pgb   ext   ce   cen  \n",
       "4  23.667587      Rio    Fuji  211.04   Pgb   ext   ce   sup  "
      ]
     },
     "execution_count": 4,
     "metadata": {},
     "output_type": "execute_result"
    }
   ],
   "source": [
    "[\"location\", \"fruta\", \"variedad\", \"tamaño\", \"plato\", \"luz\", \"plano\", \"angulo\"]\n",
    "# extract values of angle, plane and background in all images\n",
    "df_pred['location'] = df_pred.apply(lambda row: row.filenames.split('_')[0].split('/')[-1], axis=1)\n",
    "df_pred['variety'] = df_pred.apply(lambda row: row.filenames.split('_')[2], axis=1)\n",
    "df_pred['size'] = df_pred.apply(lambda row: row.filenames.split('_')[3].replace(',','.'), axis=1)\n",
    "df_pred['plate'] = df_pred.apply(lambda row: row.filenames.split('_')[4], axis=1)\n",
    "df_pred['light'] = df_pred.apply(lambda row: row.filenames.split('_')[5], axis=1)\n",
    "df_pred['shot'] = df_pred.apply(lambda row: row.filenames.split('_')[6], axis=1)\n",
    "df_pred['angle'] = df_pred.apply(lambda row: row.filenames.split('_')[7].split('.')[0], axis=1)\n",
    "df_pred.head(5)"
   ]
  },
  {
   "cell_type": "markdown",
   "metadata": {},
   "source": [
    "Change the size to the bin_size"
   ]
  },
  {
   "cell_type": "code",
   "execution_count": 5,
   "metadata": {},
   "outputs": [
    {
     "data": {
      "text/html": [
       "<div>\n",
       "<style scoped>\n",
       "    .dataframe tbody tr th:only-of-type {\n",
       "        vertical-align: middle;\n",
       "    }\n",
       "\n",
       "    .dataframe tbody tr th {\n",
       "        vertical-align: top;\n",
       "    }\n",
       "\n",
       "    .dataframe thead th {\n",
       "        text-align: right;\n",
       "    }\n",
       "</style>\n",
       "<table border=\"1\" class=\"dataframe\">\n",
       "  <thead>\n",
       "    <tr style=\"text-align: right;\">\n",
       "      <th></th>\n",
       "      <th>filenames</th>\n",
       "      <th>pred_value</th>\n",
       "      <th>true_value</th>\n",
       "      <th>abs_error</th>\n",
       "      <th>location</th>\n",
       "      <th>variety</th>\n",
       "      <th>size</th>\n",
       "      <th>plate</th>\n",
       "      <th>light</th>\n",
       "      <th>shot</th>\n",
       "      <th>angle</th>\n",
       "      <th>rel_error</th>\n",
       "    </tr>\n",
       "  </thead>\n",
       "  <tbody>\n",
       "    <tr>\n",
       "      <th>0</th>\n",
       "      <td>/storage/MANZANA/Fuji/211.04/Rio_M_Fuji_211,04...</td>\n",
       "      <td>173.189865</td>\n",
       "      <td>211.039993</td>\n",
       "      <td>37.850128</td>\n",
       "      <td>Rio</td>\n",
       "      <td>Fuji</td>\n",
       "      <td>200</td>\n",
       "      <td>Pgb</td>\n",
       "      <td>ext</td>\n",
       "      <td>al</td>\n",
       "      <td>cen</td>\n",
       "      <td>0.001714</td>\n",
       "    </tr>\n",
       "    <tr>\n",
       "      <th>1</th>\n",
       "      <td>/storage/MANZANA/Fuji/211.04/Rio_M_Fuji_211,04...</td>\n",
       "      <td>170.292374</td>\n",
       "      <td>211.039993</td>\n",
       "      <td>40.747620</td>\n",
       "      <td>Rio</td>\n",
       "      <td>Fuji</td>\n",
       "      <td>200</td>\n",
       "      <td>Pgb</td>\n",
       "      <td>ext</td>\n",
       "      <td>al</td>\n",
       "      <td>sup</td>\n",
       "      <td>0.001845</td>\n",
       "    </tr>\n",
       "    <tr>\n",
       "      <th>2</th>\n",
       "      <td>/storage/MANZANA/Fuji/211.04/Rio_M_Fuji_211,04...</td>\n",
       "      <td>191.861282</td>\n",
       "      <td>211.039993</td>\n",
       "      <td>19.178711</td>\n",
       "      <td>Rio</td>\n",
       "      <td>Fuji</td>\n",
       "      <td>200</td>\n",
       "      <td>Pgb</td>\n",
       "      <td>ext</td>\n",
       "      <td>al</td>\n",
       "      <td>ver</td>\n",
       "      <td>0.000868</td>\n",
       "    </tr>\n",
       "    <tr>\n",
       "      <th>3</th>\n",
       "      <td>/storage/MANZANA/Fuji/211.04/Rio_M_Fuji_211,04...</td>\n",
       "      <td>217.750107</td>\n",
       "      <td>211.039993</td>\n",
       "      <td>6.710114</td>\n",
       "      <td>Rio</td>\n",
       "      <td>Fuji</td>\n",
       "      <td>200</td>\n",
       "      <td>Pgb</td>\n",
       "      <td>ext</td>\n",
       "      <td>ce</td>\n",
       "      <td>cen</td>\n",
       "      <td>0.000304</td>\n",
       "    </tr>\n",
       "    <tr>\n",
       "      <th>4</th>\n",
       "      <td>/storage/MANZANA/Fuji/211.04/Rio_M_Fuji_211,04...</td>\n",
       "      <td>187.372406</td>\n",
       "      <td>211.039993</td>\n",
       "      <td>23.667587</td>\n",
       "      <td>Rio</td>\n",
       "      <td>Fuji</td>\n",
       "      <td>200</td>\n",
       "      <td>Pgb</td>\n",
       "      <td>ext</td>\n",
       "      <td>ce</td>\n",
       "      <td>sup</td>\n",
       "      <td>0.001072</td>\n",
       "    </tr>\n",
       "  </tbody>\n",
       "</table>\n",
       "</div>"
      ],
      "text/plain": [
       "                                           filenames  pred_value  true_value  \\\n",
       "0  /storage/MANZANA/Fuji/211.04/Rio_M_Fuji_211,04...  173.189865  211.039993   \n",
       "1  /storage/MANZANA/Fuji/211.04/Rio_M_Fuji_211,04...  170.292374  211.039993   \n",
       "2  /storage/MANZANA/Fuji/211.04/Rio_M_Fuji_211,04...  191.861282  211.039993   \n",
       "3  /storage/MANZANA/Fuji/211.04/Rio_M_Fuji_211,04...  217.750107  211.039993   \n",
       "4  /storage/MANZANA/Fuji/211.04/Rio_M_Fuji_211,04...  187.372406  211.039993   \n",
       "\n",
       "   abs_error location variety  size plate light shot angle  rel_error  \n",
       "0  37.850128      Rio    Fuji   200   Pgb   ext   al   cen   0.001714  \n",
       "1  40.747620      Rio    Fuji   200   Pgb   ext   al   sup   0.001845  \n",
       "2  19.178711      Rio    Fuji   200   Pgb   ext   al   ver   0.000868  \n",
       "3   6.710114      Rio    Fuji   200   Pgb   ext   ce   cen   0.000304  \n",
       "4  23.667587      Rio    Fuji   200   Pgb   ext   ce   sup   0.001072  "
      ]
     },
     "execution_count": 5,
     "metadata": {},
     "output_type": "execute_result"
    }
   ],
   "source": [
    "df_pred['size']=pd.to_numeric(df_pred['size'])\n",
    "df_pred['size']=get_bin(df_pred['size'])\n",
    "df_pred['rel_error']=df_pred.abs_error/df_pred.size\n",
    "df_pred.head(5)"
   ]
  },
  {
   "cell_type": "markdown",
   "metadata": {},
   "source": [
    "Create different dataframes for each caracteristic"
   ]
  },
  {
   "cell_type": "code",
   "execution_count": 6,
   "metadata": {},
   "outputs": [],
   "source": [
    "# groups\n",
    "df_variety=df_pred.groupby(['variety'], as_index=False)['abs_error'].mean()\n",
    "df_size=df_pred.groupby(['size'], as_index=False)['abs_error'].mean()\n",
    "df_plate=df_pred.groupby(['plate'], as_index=False)['abs_error'].mean()\n",
    "df_light=df_pred.groupby(['light'], as_index=False)['abs_error'].mean()\n",
    "df_shot=df_pred.groupby(['shot'], as_index=False)['abs_error'].mean()\n",
    "df_angle=df_pred.groupby(['angle'], as_index=False)['abs_error'].mean()\n",
    "df_location=df_pred.groupby(['location'], as_index=False)['abs_error'].mean()"
   ]
  },
  {
   "cell_type": "markdown",
   "metadata": {},
   "source": [
    "Calculate estandar desviation for each caracteristic"
   ]
  },
  {
   "cell_type": "code",
   "execution_count": 7,
   "metadata": {},
   "outputs": [
    {
     "name": "stdout",
     "output_type": "stream",
     "text": [
      "   size  abs_error        std\n",
      "0   125  26.425664  15.247130\n",
      "1   150  20.956171  18.925005\n",
      "2   175  14.745738   8.961510\n",
      "3   200  20.081205  13.611602\n",
      "4   225  25.439624  15.474352\n",
      "5   250  28.496144  19.934078\n",
      "6   275  47.172729  23.630601\n",
      "7   300  53.456565  28.932953\n"
     ]
    }
   ],
   "source": [
    "#Calculate Standar Desviation\n",
    "# the codeline generate a subdataframe with columns = [characteristic, abs_error] but in reality it is  [characteristic, std]\n",
    "df_variety['std']=df_pred.groupby(['variety'], as_index=False)['abs_error'].std()['abs_error']\n",
    "df_size['std']=df_pred.groupby(['size'], as_index=False)['abs_error'].std()['abs_error']\n",
    "df_plate['std']=df_pred.groupby(['plate'], as_index=False)['abs_error'].std()['abs_error']\n",
    "df_light['std']=df_pred.groupby(['light'], as_index=False)['abs_error'].std()['abs_error']\n",
    "df_shot['std']=df_pred.groupby(['shot'], as_index=False)['abs_error'].std()['abs_error']\n",
    "df_angle['std']=df_pred.groupby(['angle'], as_index=False)['abs_error'].std()['abs_error']\n",
    "df_location['std']=df_pred.groupby(['location'], as_index=False)['abs_error'].std()['abs_error']\n",
    "print(df_size)"
   ]
  },
  {
   "cell_type": "markdown",
   "metadata": {},
   "source": [
    "Set a custom dictionary and rename values of datasets"
   ]
  },
  {
   "cell_type": "code",
   "execution_count": 8,
   "metadata": {},
   "outputs": [],
   "source": [
    "custom_dict = {'Mad': 0, 'Rio': 1}\n",
    "df_location=df_location.sort_values(by=['location'], key=lambda x: x.map(custom_dict))\n",
    "\n",
    "custom_dict = {'Fuji': 0, 'Golden': 1, 'Granny Smith': 2}\n",
    "df_variety=df_variety.sort_values(by=['variety'], key=lambda x: x.map(custom_dict))\n",
    "\n",
    "custom_dict = {'Spb': 0, 'Spo': 1, 'Spm': 2, 'Ppb': 3, 'Pgb': 4}\n",
    "df_plate=df_plate.sort_values(by=['plate'], key=lambda x: x.map(custom_dict))\n",
    "\n",
    "custom_dict = {'int': 0, 'ext': 1}\n",
    "df_light=df_light.sort_values(by=['light'], key=lambda x: x.map(custom_dict))\n",
    "\n",
    "custom_dict = {'ce': 0, 'me': 1, 'al': 2}\n",
    "df_shot=df_shot.sort_values(by=['shot'], key=lambda x: x.map(custom_dict))\n",
    "\n",
    "custom_dict = {'sup': 0, 'cen': 1, 'ver': 2}\n",
    "df_angle=df_angle.sort_values(by=['angle'], key=lambda x: x.map(custom_dict))"
   ]
  },
  {
   "cell_type": "code",
   "execution_count": 9,
   "metadata": {},
   "outputs": [
    {
     "name": "stderr",
     "output_type": "stream",
     "text": [
      "/usr/local/lib/python3.6/dist-packages/pandas/core/indexing.py:670: SettingWithCopyWarning: \n",
      "A value is trying to be set on a copy of a slice from a DataFrame\n",
      "\n",
      "See the caveats in the documentation: https://pandas.pydata.org/pandas-docs/stable/user_guide/indexing.html#returning-a-view-versus-a-copy\n",
      "  iloc._setitem_with_indexer(indexer, value)\n"
     ]
    }
   ],
   "source": [
    "# rename values \n",
    "df_plate['plate'].loc[(df_plate['plate'] == 'Spb')] = 'Blanco'\n",
    "df_plate['plate'].loc[(df_plate['plate'] == 'Spo')] = 'Oscuro'\n",
    "df_plate['plate'].loc[(df_plate['plate'] == 'Spm')] = 'Mantel'\n",
    "df_plate['plate'].loc[(df_plate['plate'] == 'Ppb')] = 'Plato Postre'\n",
    "df_plate['plate'].loc[(df_plate['plate'] == 'Pgb')] = 'Plato Grande'\n",
    "\n",
    "df_location['location'].loc[(df_location['location'] == 'Mad')] = 'Madrid'\n",
    "df_location['location'].loc[(df_location['location'] == 'Rio')] = 'Rioja'\n",
    "\n",
    "df_shot['shot'].loc[(df_shot['shot'] == 'al')] = '[50, 70]'\n",
    "df_shot['shot'].loc[(df_shot['shot'] == 'me')] = '[20, 30]'\n",
    "df_shot['shot'].loc[(df_shot['shot'] == 'ce')] = '[10, 15]'\n",
    "\n",
    "df_angle['angle'].loc[(df_angle['angle'] == 'sup')] = '(30, 60)'\n",
    "df_angle['angle'].loc[(df_angle['angle'] == 'cen')] = '0'\n",
    "df_angle['angle'].loc[(df_angle['angle'] == 'ver')] = '(90)'\n",
    "\n",
    "df_light['light'].loc[(df_light['light'] == 'int')] = 'indoors'\n",
    "df_light['light'].loc[(df_light['light'] == 'ext')] = 'outdoors'"
   ]
  },
  {
   "cell_type": "markdown",
   "metadata": {},
   "source": [
    "Create graphs"
   ]
  },
  {
   "cell_type": "code",
   "execution_count": 10,
   "metadata": {},
   "outputs": [
    {
     "data": {
      "image/png": "[encoded data removed]",
      "text/plain": [
       "<Figure size 1080x1080 with 7 Axes>"
      ]
     },
     "metadata": {
      "needs_background": "light"
     },
     "output_type": "display_data"
    }
   ],
   "source": [
    "figsize = 5\n",
    "\n",
    "fig, axs = plt.subplots(3, 3, figsize=(figsize*3, figsize*3))\n",
    "\n",
    "gs = axs[0, 0].get_gridspec()\n",
    "# remove the underlying axes\n",
    "for ax in axs[0, 0:-1]:\n",
    "    ax.remove()\n",
    "axbig = fig.add_subplot(gs[0, 0:-1])\n",
    "\n",
    "\n",
    "#y_error = df_size['abs_error']* (df_size['std']/100) #TODO Preguntar esta bien std/100??\n",
    "y_error = df_size['std']\n",
    "y_error = y_error.set_axis(df_size['size'])\n",
    "\n",
    "df_size.plot.bar(x='size', y='abs_error', yerr='std', ax=axbig, color=['#355c70'], ecolor='r', capsize=7, legend=None)\n",
    "axbig.set_xlabel('Peso (g)', fontsize=18)\n",
    "axbig.set_ylabel('MAE (g)', fontsize=18)\n",
    "axbig.tick_params(axis='x', rotation=0)\n",
    "axbig.tick_params(axis='both', which='major', labelsize=16)\n",
    "axbig.yaxis.grid(True)\n",
    "\n",
    "df_plate.plot.bar(x='plate', y='abs_error', yerr='std', ax=axs[0,2], color=['#355c70'], ecolor='r', capsize=7, legend=None)\n",
    "axs[0,2].set_xlabel('Plate', fontsize=18)\n",
    "axs[0,2].set_ylabel('MAE (g)', fontsize=18)\n",
    "axs[0,2].tick_params(axis='x', rotation=0)\n",
    "axs[0,2].tick_params(axis='both', which='major', labelsize=9)\n",
    "\n",
    "gs = axs[1, 0].get_gridspec()\n",
    "# remove the underlying axes\n",
    "for ax in axs[1, 0:-1]:\n",
    "    ax.remove()\n",
    "axbig2 = fig.add_subplot(gs[1, 0:-1])\n",
    "\n",
    "df_variety.plot.bar(x='variety', y='abs_error', yerr='std', ax=axbig2, color=['#355c70'], ecolor='r', capsize=7, legend=None)\n",
    "axbig2.set_xlabel('Variety', fontsize=18)\n",
    "axbig2.set_ylabel('MAE (g)', fontsize=18)\n",
    "axbig2.tick_params(axis='x', rotation=0)\n",
    "axbig2.tick_params(axis='both', which='major', labelsize=16)\n",
    "\n",
    "df_location.plot.bar(x='location', y='abs_error', yerr='std', ax=axs[1,2], color=['#355c70'], ecolor='r', capsize=7, legend=None)\n",
    "axs[1,2].set_xlabel('location', fontsize=18)\n",
    "axs[1,2].set_ylabel('MAE (g)', fontsize=18)\n",
    "axs[1,2].tick_params(axis='x', rotation=0)\n",
    "axs[1,2].tick_params(axis='both', which='major', labelsize=16)\n",
    "\n",
    "df_angle.plot.bar(x='angle', y='abs_error', yerr='std', ax=axs[2,0], color=['#355c70'], ecolor='r', capsize=7, legend=None)\n",
    "axs[2,0].set_xlabel('Angle (deg)', fontsize=18)\n",
    "axs[2,0].set_ylabel('MAE (g)', fontsize=18)\n",
    "axs[2,0].tick_params(axis='x', rotation=0)\n",
    "axs[2,0].tick_params(axis='both', which='major', labelsize=16)\n",
    "\n",
    "df_shot.plot.bar(x='shot', y='abs_error', yerr='std', ax=axs[2,1], color=['#355c70'], ecolor='r', capsize=7, legend=None)\n",
    "axs[2,1].set_xlabel('Object distance (cm)', fontsize=18)\n",
    "axs[2,1].set_ylabel('MAE (g)', fontsize=18)\n",
    "axs[2,1].tick_params(axis='x', rotation=0)\n",
    "axs[2,1].tick_params(axis='both', which='major', labelsize=16)\n",
    "\n",
    "df_light.plot.bar(x='light', y='abs_error', yerr='std', ax=axs[2,2], color=['#355c70'], ecolor='r', capsize=7, legend=None)\n",
    "axs[2,2].set_xlabel('Lighting', fontsize=18)\n",
    "axs[2,2].set_ylabel('MAE (g)', fontsize=18)\n",
    "labels = [item.get_text() for item in axs[2,2].get_xticklabels()]\n",
    "labels[0] = 'indoors'\n",
    "labels[1] = 'outdors'\n",
    "axs[2,2].set_xticklabels(labels)\n",
    "axs[2,2].tick_params(axis='x', rotation=0)\n",
    "axs[2,2].tick_params(axis='both', which='major', labelsize=16)\n",
    "\n",
    "# for ax in axs:\n",
    "#    ax.tick_params(axis='both', which='major', labelsize=16)\n",
    "    \n",
    "fig.tight_layout(pad=3.0)\n",
    "plt.savefig('/srv/image-results/abs_error.png',bbox_inches='tight')"
   ]
  },
  {
   "cell_type": "code",
   "execution_count": 11,
   "metadata": {},
   "outputs": [
    {
     "name": "stdout",
     "output_type": "stream",
     "text": [
      "      light  abs_error        std\n",
      "1   indoors  16.010409  14.092538\n",
      "0  outdoors  15.070393  14.004034\n"
     ]
    }
   ],
   "source": [
    "print(df_light)"
   ]
  }
 ],
 "metadata": {
  "kernelspec": {
   "display_name": "Python 3",
   "language": "python",
   "name": "python3"
  },
  "language_info": {
   "codemirror_mode": {
    "name": "ipython",
    "version": 3
   },
   "file_extension": ".py",
   "mimetype": "text/x-python",
   "name": "python",
   "nbconvert_exporter": "python",
   "pygments_lexer": "ipython3",
   "version": "3.6.8"
  }
 },
 "nbformat": 4,
 "nbformat_minor": 4
}
