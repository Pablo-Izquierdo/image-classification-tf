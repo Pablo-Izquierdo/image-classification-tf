{
 "cells": [
  {
   "cell_type": "markdown",
   "metadata": {},
   "source": [
    "# Computing the predictions\n",
    "\n",
    "In this notebook we compute predictions on unseen `test` data, by predicting filepaths contained in a [dataset split .txt file](#Predicting-a-datasplit-txt-file)."
   ]
  },
  {
   "cell_type": "code",
   "execution_count": null,
   "metadata": {},
   "outputs": [],
   "source": [
    "import os\n",
    "import json\n",
    "import numpy as np\n",
    "import matplotlib.pylab as plt\n",
    "\n",
    "from tensorflow.keras.models import load_model\n",
    "\n",
    "from imgclas.data_utils import load_image, load_data_splits\n",
    "from imgclas.test_utils import predict\n",
    "from imgclas import paths, plot_utils, utils\n",
    "\n",
    "# User parameters to set\n",
    "TIMESTAMP = '2024-02-01_115602'                       # timestamp of the model\n",
    "MODEL_NAME = 'epoch-20.hdf5'\n",
    "#MODEL_NAME = 'final_model.h5'                           # model to use to make the prediction\n",
    "\n",
    "# Set the timestamp\n",
    "paths.timestamp = TIMESTAMP\n",
    "\n",
    "# Load training configuration\n",
    "conf_path = os.path.join(paths.get_conf_dir(), 'conf.json')\n",
    "with open(conf_path) as f:\n",
    "    conf = json.load(f)\n",
    "    \n",
    "filepath = os.path.join(paths.get_checkpoints_dir(), MODEL_NAME)\n",
    "obj=utils.get_custom_objects()\n",
    "\n",
    "# Load the model\n",
    "model = load_model(filepath, custom_objects=obj, compile=False)"
   ]
  },
  {
   "cell_type": "markdown",
   "metadata": {},
   "source": [
    "## Predicting a datasplit txt file\n",
    "\n",
    "Here we are going to compute the predictions and save them into a `.json` file to retireve them later. "
   ]
  },
  {
   "cell_type": "code",
   "execution_count": null,
   "metadata": {},
   "outputs": [],
   "source": [
    "cd .."
   ]
  },
  {
   "cell_type": "code",
   "execution_count": null,
   "metadata": {},
   "outputs": [],
   "source": [
    "SPLIT_NAME = 'test'                          # data split to use \n",
    "FOLD = \"Fold-0\"\n",
    " \n",
    "# Load the data\n",
    "X, y = load_data_splits(splits_dir=paths.get_ts_splits_dir(),\n",
    "                        im_dir=conf['general']['images_directory'],\n",
    "                        split_name=f'{FOLD}/'+SPLIT_NAME)\n",
    "\n",
    "# Predict\n",
    "#pred_result = predict(model, X, conf, filemode='local')\n",
    "\n",
    "# Save the predictions\n",
    "pred_dict = {'filenames': list(X),\n",
    "             'pred_value': pred_result.tolist()}\n",
    "if y is not None:\n",
    "    pred_dict['true_value'] = y.tolist()\n",
    "\n",
    "pred_path = os.path.join(paths.get_predictions_dir()+f'/{FOLD}/', '{}+{}.json'.format(MODEL_NAME, SPLIT_NAME))\n",
    "with open(pred_path, 'w') as outfile:\n",
    "    json.dump(pred_dict, outfile, sort_keys=True)"
   ]
  },
  {
   "cell_type": "code",
   "execution_count": null,
   "metadata": {},
   "outputs": [],
   "source": []
  },
  {
   "cell_type": "code",
   "execution_count": null,
   "metadata": {},
   "outputs": [],
   "source": []
  },
  {
   "cell_type": "code",
   "execution_count": null,
   "metadata": {},
   "outputs": [],
   "source": [
    "import os\n",
    "import json\n",
    "import numpy as np\n",
    "import matplotlib.pylab as plt\n",
    "\n",
    "from tensorflow.keras.models import load_model\n",
    "\n",
    "from imgclas.data_utils import load_image, load_data_splits\n",
    "from imgclas.test_utils import predict\n",
    "from imgclas import paths, plot_utils, utils\n",
    "\n",
    "\n",
    "# User parameters to set\n",
    "TIMESTAMP = '2024-02-01_115602'                       # timestamp of the model\n",
    "MODEL_NAME = 'epoch-20.hdf5'\n",
    "\n",
    "\n",
    "try:\n",
    "    os.mkdir(f'/srv/image-classification-tf/models/{TIMESTAMP}/predictions/bootstrapping-epoch-20/')\n",
    "except Exception as e:\n",
    "    print(\"directory exits\")\n",
    "\n",
    "for sample in os.listdir('/srv/image-classification-tf/models/2024-02-01_115602/dataset_files/bootstrapping'): \n",
    "   \n",
    "    print(f'Executing... {sample}')\n",
    "    # Set the timestamp\n",
    "    paths.timestamp = TIMESTAMP\n",
    "\n",
    "    # Load training configuration\n",
    "    conf_path = os.path.join(paths.get_conf_dir(), 'conf.json')\n",
    "    with open(conf_path) as f:\n",
    "        conf = json.load(f)\n",
    "\n",
    "    filepath = os.path.join(paths.get_checkpoints_dir(), MODEL_NAME) \n",
    "    obj=utils.get_custom_objects()\n",
    "\n",
    "    # Load the model\n",
    "    model = load_model(filepath, custom_objects=obj, compile=False)\n",
    "\n",
    "    \n",
    "    \n",
    "    SPLIT_NAME = sample.split('.')[0]                         # data split to use \n",
    "    # Load the data\n",
    "    X, y = load_data_splits(splits_dir=paths.get_ts_splits_dir(),\n",
    "                            im_dir=conf['general']['images_directory'],\n",
    "                            split_name=f'bootstrapping/'+SPLIT_NAME)\n",
    "\n",
    "    # Predict\n",
    "    pred_result = predict(model, X, conf, filemode='local')\n",
    "\n",
    "    # Save the predictions\n",
    "    pred_dict = {'filenames': list(X),\n",
    "                 'pred_value': pred_result.tolist()}\n",
    "    if y is not None:\n",
    "        pred_dict['true_value'] = y.tolist()\n",
    "\n",
    "    pred_path = os.path.join(paths.get_predictions_dir()+f'/bootstrapping-epoch-20/', '{}.json'.format(SPLIT_NAME))\n",
    "    with open(pred_path, 'w') as outfile:\n",
    "        json.dump(pred_dict, outfile, sort_keys=True)"
   ]
  }
 ],
 "metadata": {
  "kernelspec": {
   "display_name": "Python 3",
   "language": "python",
   "name": "python3"
  },
  "language_info": {
   "codemirror_mode": {
    "name": "ipython",
    "version": 3
   },
   "file_extension": ".py",
   "mimetype": "text/x-python",
   "name": "python",
   "nbconvert_exporter": "python",
   "pygments_lexer": "ipython3",
   "version": "3.6.8"
  }
 },
 "nbformat": 4,
 "nbformat_minor": 4
}
