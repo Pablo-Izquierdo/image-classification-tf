{
 "cells": [
  {
   "cell_type": "code",
   "execution_count": 14,
   "id": "65d86d02-bfa1-418b-8d39-c3b1710af78f",
   "metadata": {},
   "outputs": [
    {
     "name": "stdout",
     "output_type": "stream",
     "text": [
      "GroupKFold(n_splits=3)\n",
      "Fold 0:\n",
      "[0 2 3 5] [1 4]\n",
      "  Train: index=[0 2 3 5], data=[[ 1  2]\n",
      " [ 5  6]\n",
      " [ 7  8]\n",
      " [11 12]], y=[125 175 200 250]\n",
      "  Test:  index=[1 4], data=[150 225]\n",
      "Fold 1:\n",
      "[1 3 4 5] [0 2]\n",
      "  Train: index=[1 3 4 5], data=[[ 3  4]\n",
      " [ 7  8]\n",
      " [ 9 10]\n",
      " [11 12]], y=[150 200 225 250]\n",
      "  Test:  index=[0 2], data=[125 175]\n",
      "Fold 2:\n",
      "[0 1 2 4] [3 5]\n",
      "  Train: index=[0 1 2 4], data=[[ 1  2]\n",
      " [ 3  4]\n",
      " [ 5  6]\n",
      " [ 9 10]], y=[125 150 175 225]\n",
      "  Test:  index=[3 5], data=[200 250]\n"
     ]
    }
   ],
   "source": [
    "import numpy as np\n",
    "from sklearn.model_selection import GroupKFold\n",
    "\n",
    "X = np.array([[1, 2], [3, 4], [5, 6], [7, 8], [9, 10], [11, 12]])\n",
    "y = np.array([125, 150, 175, 200, 225, 250])\n",
    "groups = np.array([0.0, 1.23, 0.0, 3, 1.23, 5])\n",
    "group_kfold = GroupKFold(n_splits=3)\n",
    "group_kfold.get_n_splits(X, y, groups)\n",
    "\n",
    "print(group_kfold)\n",
    "for i, (train_index, test_index) in enumerate(group_kfold.split(X, y, groups)):\n",
    "    print(f\"Fold {i}:\")\n",
    "    print(train_index, test_index)\n",
    "    print(f\"  Train: index={train_index}, data={X[train_index]}, y={y[train_index]}\")\n",
    "    print(f\"  Test:  index={test_index}, data={y[test_index]}\")\n",
    "      "
   ]
  },
  {
   "cell_type": "code",
   "execution_count": null,
   "id": "ebc72ff6-0843-4437-82e6-6f41eaf6f9b1",
   "metadata": {},
   "outputs": [],
   "source": []
  }
 ],
 "metadata": {
  "kernelspec": {
   "display_name": "Python 3",
   "language": "python",
   "name": "python3"
  },
  "language_info": {
   "codemirror_mode": {
    "name": "ipython",
    "version": 3
   },
   "file_extension": ".py",
   "mimetype": "text/x-python",
   "name": "python",
   "nbconvert_exporter": "python",
   "pygments_lexer": "ipython3",
   "version": "3.6.8"
  }
 },
 "nbformat": 4,
 "nbformat_minor": 5
}
