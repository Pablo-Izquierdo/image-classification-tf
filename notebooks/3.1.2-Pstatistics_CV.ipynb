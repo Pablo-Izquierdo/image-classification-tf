{
 "cells": [
  {
   "cell_type": "markdown",
   "metadata": {},
   "source": [
    "# Predictions statistics\n",
    "\n",
    "Analysis of the predictions made for a certain datasplit (usually test).\n",
    "\n",
    "**Note:** To run this notebook you previously have to run and save the predictions on a test dataset **with ground-truth values**. See the Datasplit section in [3.0 notebook](./3.0-Computing_predictions.ipynb#Predicting-a-datasplit-txt-file) for reference.\n"
   ]
  },
  {
   "cell_type": "code",
   "execution_count": 6,
   "metadata": {},
   "outputs": [],
   "source": [
    "def Average(lst): \n",
    "    return sum(lst) / len(lst) "
   ]
  },
  {
   "cell_type": "code",
   "execution_count": 23,
   "metadata": {},
   "outputs": [
    {
     "name": "stdout",
     "output_type": "stream",
     "text": [
      "MAE: 19.2501613532069\n",
      "STD: 16.011143851526537\n",
      "MSE: 629.9837429670476\n",
      "RMSE: 24.101830695503583\n",
      "R-Squared: 0.9151501170307996\n"
     ]
    }
   ],
   "source": [
    "import os\n",
    "import json\n",
    "import numpy as np\n",
    "\n",
    "from imgclas.data_utils import load_image\n",
    "from imgclas import paths, plot_utils\n",
    "from imgclas import test_utils\n",
    "import sklearn.metrics as metrics\n",
    "\n",
    "import warnings\n",
    "warnings.filterwarnings(\"ignore\")\n",
    "\n",
    "# User parameters to set\n",
    "TIMESTAMP = '2024-04-22_073356'       # timestamp of the model              \n",
    "SPLIT_NAME = 'test'                   # dataset split to predict\n",
    "MODEL_NAME = 'final_model.h5'         # model to use to make the mediction\n",
    "FOLDS = [\"Fold-0\",\"Fold-1\",\"Fold-2\",\"Fold-3\",\"Fold-4\"]\n",
    "\n",
    "folds_mae = list()\n",
    "folds_std = list()\n",
    "folds_mse = list()\n",
    "folds_rmse = list()\n",
    "folds_r2 = list()\n",
    "\n",
    "# Set the timestamp\n",
    "paths.timestamp = TIMESTAMP\n",
    "\n",
    "for FOLD in FOLDS:\n",
    "\n",
    "    # Load back the predictions\n",
    "    pred_path = os.path.join(paths.get_predictions_dir()+'/'+FOLD, '{}+{}.json'.format(MODEL_NAME, SPLIT_NAME))\n",
    "    with open(pred_path) as f:\n",
    "        pred_dict = json.load(f)\n",
    "\n",
    "    y, yhat = np.array(pred_dict['true_value']), np.array(pred_dict['pred_value'])\n",
    "\n",
    "    folds_mae.append(metrics.mean_absolute_error(y, yhat))\n",
    "    folds_std.append(np.std(np.abs(yhat-y)))\n",
    "    folds_mse.append(metrics.mean_squared_error(y, yhat))\n",
    "    folds_rmse.append(np.sqrt(mse))# or mse**(0.5)  \n",
    "    folds_r2.append(metrics.r2_score(y,yhat))\n",
    "\n",
    "print(\"MAE:\", Average(folds_mae))\n",
    "\n",
    "#print(\"STD:\",folds_std)\n",
    "print(\"STD:\",Average(folds_std))\n",
    "print(\"MSE:\", Average(folds_mse))\n",
    "print(\"RMSE:\", Average(folds_rmse))\n",
    "print(\"R-Squared:\", Average(folds_r2))"
   ]
  }
 ],
 "metadata": {
  "kernelspec": {
   "display_name": "Python 3",
   "language": "python",
   "name": "python3"
  },
  "language_info": {
   "codemirror_mode": {
    "name": "ipython",
    "version": 3
   },
   "file_extension": ".py",
   "mimetype": "text/x-python",
   "name": "python",
   "nbconvert_exporter": "python",
   "pygments_lexer": "ipython3",
   "version": "3.6.8"
  }
 },
 "nbformat": 4,
 "nbformat_minor": 4
}
