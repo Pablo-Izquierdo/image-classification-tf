{
 "cells": [
  {
   "cell_type": "markdown",
   "metadata": {},
   "source": [
    "# Computing the predictions\n",
    "\n",
    "In this notebook we compute predictions on unseen `test` data, by predicting filepaths contained in a [dataset split .txt file](#Predicting-a-datasplit-txt-file)."
   ]
  },
  {
   "cell_type": "code",
   "execution_count": 2,
   "metadata": {},
   "outputs": [],
   "source": [
    "import os\n",
    "import json\n",
    "import numpy as np\n",
    "import matplotlib.pylab as plt\n",
    "\n",
    "from tensorflow.keras.models import load_model\n",
    "\n",
    "from imgclas.data_utils import load_image, load_data_splits\n",
    "from imgclas.test_utils import predict\n",
    "from imgclas import paths, plot_utils, utils"
   ]
  },
  {
   "cell_type": "code",
   "execution_count": 3,
   "metadata": {},
   "outputs": [],
   "source": [
    "def compute_predictions_CV (TIMESTAMP, K, MODEL_NAME='final_model.h5', SPLIT_NAME ='test'):\n",
    "\n",
    "    FOLDS=list()\n",
    "    for i in range(0,int(K)):\n",
    "        FOLDS.append(f\"Fold-{i}\")\n",
    "\n",
    "    for FOLD in FOLDS:\n",
    "        # Set the timestamp\n",
    "        paths.timestamp = TIMESTAMP\n",
    "        print(f'Executing... {FOLD}')\n",
    "        # Load training configuration\n",
    "        conf_path = os.path.join(paths.get_conf_dir(), 'conf.json')\n",
    "        with open(conf_path) as f:\n",
    "            conf = json.load(f)\n",
    "            \n",
    "        filepath = os.path.join(paths.get_checkpoints_dir()+ f\"/{FOLD}\", MODEL_NAME) \n",
    "        obj=utils.get_custom_objects()\n",
    "\n",
    "        # Load the model\n",
    "        model = load_model(filepath, custom_objects=obj, compile=False)\n",
    "        \n",
    "        # Load the data\n",
    "        X, y = load_data_splits(splits_dir=paths.get_ts_splits_dir(),\n",
    "                                im_dir=conf['general']['images_directory'],\n",
    "                                split_name=f'{FOLD}/'+SPLIT_NAME)\n",
    "\n",
    "        # Predict\n",
    "        pred_result = predict(model, X, conf, filemode='local')\n",
    "\n",
    "        # Save the predictions\n",
    "        pred_dict = {'filenames': list(X),\n",
    "                    'pred_value': pred_result.tolist()}\n",
    "        if y is not None:\n",
    "            pred_dict['true_value'] = y.tolist()\n",
    "\n",
    "        pred_path = os.path.join(paths.get_predictions_dir()+f'/{FOLD}/', '{}+{}.json'.format(MODEL_NAME, SPLIT_NAME))\n",
    "        with open(pred_path, 'w') as outfile:\n",
    "            json.dump(pred_dict, outfile, sort_keys=True)"
   ]
  },
  {
   "cell_type": "markdown",
   "metadata": {},
   "source": [
    "## Predicting a datasplit txt file\n",
    "\n",
    "Here we are going to compute the predictions and save them into a `.json` file to retireve them later. "
   ]
  },
  {
   "cell_type": "code",
   "execution_count": 4,
   "metadata": {},
   "outputs": [],
   "source": [
    "TIMESTAMP = '2023-04-30_132931'\n",
    "K = 5\n",
    "MODEL_NAME='final_model.h5'\n",
    "SPLIT_NAME ='test'"
   ]
  },
  {
   "cell_type": "code",
   "execution_count": 5,
   "metadata": {},
   "outputs": [
    {
     "name": "stderr",
     "output_type": "stream",
     "text": [
      "WARNING: Logging before flag parsing goes to stderr.\n",
      "W0527 07:16:53.750293 140190027982656 deprecation.py:506] From /usr/local/lib/python3.6/dist-packages/tensorflow/python/ops/init_ops.py:97: calling GlorotUniform.__init__ (from tensorflow.python.ops.init_ops) with dtype is deprecated and will be removed in a future version.\n",
      "Instructions for updating:\n",
      "Call initializer instance with the dtype argument instead of passing it to the constructor\n",
      "W0527 07:16:53.752941 140190027982656 deprecation.py:506] From /usr/local/lib/python3.6/dist-packages/tensorflow/python/ops/init_ops.py:1251: calling VarianceScaling.__init__ (from tensorflow.python.ops.init_ops) with dtype is deprecated and will be removed in a future version.\n",
      "Instructions for updating:\n",
      "Call initializer instance with the dtype argument instead of passing it to the constructor\n",
      "W0527 07:16:53.754342 140190027982656 deprecation.py:506] From /usr/local/lib/python3.6/dist-packages/tensorflow/python/ops/init_ops.py:97: calling Zeros.__init__ (from tensorflow.python.ops.init_ops) with dtype is deprecated and will be removed in a future version.\n",
      "Instructions for updating:\n",
      "Call initializer instance with the dtype argument instead of passing it to the constructor\n"
     ]
    },
    {
     "name": "stdout",
     "output_type": "stream",
     "text": [
      "Executing... Fold-0\n",
      "Loading Fold-0/test data...\n",
      "2582/2582 [==============================] - 4012s 2s/step\n",
      "Executing... Fold-1\n",
      "Loading Fold-1/test data...\n",
      "2592/2592 [==============================] - 3604s 1s/step\n",
      "Executing... Fold-2\n",
      "Loading Fold-2/test data...\n",
      "2592/2592 [==============================] - 3574s 1s/step\n",
      "Executing... Fold-3\n",
      "Loading Fold-3/test data...\n",
      "2592/2592 [==============================] - 3551s 1s/step\n",
      "Executing... Fold-4\n",
      "Loading Fold-4/test data...\n",
      "2584/2584 [==============================] - 3619s 1s/step\n"
     ]
    }
   ],
   "source": [
    "compute_predictions_CV(TIMESTAMP,K,MODEL_NAME,SPLIT_NAME)"
   ]
  },
  {
   "cell_type": "code",
   "execution_count": null,
   "metadata": {},
   "outputs": [],
   "source": []
  }
 ],
 "metadata": {
  "kernelspec": {
   "display_name": "Python 3",
   "language": "python",
   "name": "python3"
  },
  "language_info": {
   "codemirror_mode": {
    "name": "ipython",
    "version": 3
   },
   "file_extension": ".py",
   "mimetype": "text/x-python",
   "name": "python",
   "nbconvert_exporter": "python",
   "pygments_lexer": "ipython3",
   "version": "3.6.8"
  }
 },
 "nbformat": 4,
 "nbformat_minor": 4
}
